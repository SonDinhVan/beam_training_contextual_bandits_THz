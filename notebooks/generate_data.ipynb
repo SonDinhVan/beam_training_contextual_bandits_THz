{
 "cells": [
  {
   "cell_type": "code",
   "execution_count": 5,
   "metadata": {},
   "outputs": [],
   "source": [
    "import numpy as np\n",
    "import DeepMIMO\n",
    "import pickle\n",
    "from configs import config"
   ]
  },
  {
   "cell_type": "code",
   "execution_count": 6,
   "metadata": {},
   "outputs": [
    {
     "name": "stdout",
     "output_type": "stream",
     "text": [
      "\n",
      "Basestation 7\n",
      "\n",
      "UE-BS Channels\n"
     ]
    },
    {
     "name": "stderr",
     "output_type": "stream",
     "text": [
      "Reading ray-tracing:   0%|          | 5420/1184922 [00:07<25:39, 766.24it/s] \n"
     ]
    },
    {
     "ename": "KeyboardInterrupt",
     "evalue": "",
     "output_type": "error",
     "traceback": [
      "\u001b[1;31m---------------------------------------------------------------------------\u001b[0m",
      "\u001b[1;31mKeyboardInterrupt\u001b[0m                         Traceback (most recent call last)",
      "Cell \u001b[1;32mIn[6], line 22\u001b[0m\n\u001b[0;32m     19\u001b[0m parameters[\u001b[39m'\u001b[39m\u001b[39mbandwidth\u001b[39m\u001b[39m'\u001b[39m] \u001b[39m=\u001b[39m config\u001b[39m.\u001b[39mBANDWIDTH \u001b[39m*\u001b[39m \u001b[39m512\u001b[39m\n\u001b[0;32m     21\u001b[0m \u001b[39m# Generate data\u001b[39;00m\n\u001b[1;32m---> 22\u001b[0m dataset \u001b[39m=\u001b[39m DeepMIMO\u001b[39m.\u001b[39;49mgenerate_data(parameters)\n",
      "File \u001b[1;32mc:\\Users\\DinhVa_S\\AppData\\Local\\miniconda3\\envs\\bandit_env\\lib\\site-packages\\DeepMIMO\\generator.py:47\u001b[0m, in \u001b[0;36mgenerate_data\u001b[1;34m(params)\u001b[0m\n\u001b[0;32m     40\u001b[0m \u001b[39m# If static scenario\u001b[39;00m\n\u001b[0;32m     41\u001b[0m \u001b[39melse\u001b[39;00m:\n\u001b[0;32m     42\u001b[0m     params[c\u001b[39m.\u001b[39mPARAMSET_SCENARIO_FIL] \u001b[39m=\u001b[39m os\u001b[39m.\u001b[39mpath\u001b[39m.\u001b[39mjoin(\n\u001b[0;32m     43\u001b[0m                                 os\u001b[39m.\u001b[39mpath\u001b[39m.\u001b[39mabspath(params[c\u001b[39m.\u001b[39mPARAMSET_DATASET_FOLDER]), \n\u001b[0;32m     44\u001b[0m                                 params[c\u001b[39m.\u001b[39mPARAMSET_SCENARIO], \n\u001b[0;32m     45\u001b[0m                                 params[c\u001b[39m.\u001b[39mPARAMSET_SCENARIO]\n\u001b[0;32m     46\u001b[0m                                 )\n\u001b[1;32m---> 47\u001b[0m     dataset \u001b[39m=\u001b[39m generate_scene_data(params)\n\u001b[0;32m     48\u001b[0m \u001b[39mreturn\u001b[39;00m dataset\n",
      "File \u001b[1;32mc:\\Users\\DinhVa_S\\AppData\\Local\\miniconda3\\envs\\bandit_env\\lib\\site-packages\\DeepMIMO\\generator.py:60\u001b[0m, in \u001b[0;36mgenerate_scene_data\u001b[1;34m(params)\u001b[0m\n\u001b[0;32m     57\u001b[0m safe_print(\u001b[39m'\u001b[39m\u001b[39m\\n\u001b[39;00m\u001b[39mBasestation \u001b[39m\u001b[39m%i\u001b[39;00m\u001b[39m'\u001b[39m \u001b[39m%\u001b[39m bs_indx)\n\u001b[0;32m     59\u001b[0m safe_print(\u001b[39m'\u001b[39m\u001b[39m\\n\u001b[39;00m\u001b[39mUE-BS Channels\u001b[39m\u001b[39m'\u001b[39m)\n\u001b[1;32m---> 60\u001b[0m dataset[i][c\u001b[39m.\u001b[39mDICT_UE_IDX], dataset[i][c\u001b[39m.\u001b[39mOUT_LOC] \u001b[39m=\u001b[39m read_raytracing(bs_indx, params, user\u001b[39m=\u001b[39;49m\u001b[39mTrue\u001b[39;49;00m)\n\u001b[0;32m     61\u001b[0m dataset[i][c\u001b[39m.\u001b[39mDICT_UE_IDX][c\u001b[39m.\u001b[39mOUT_CHANNEL] \u001b[39m=\u001b[39m generate_MIMO_channel(dataset[i][c\u001b[39m.\u001b[39mDICT_UE_IDX][c\u001b[39m.\u001b[39mOUT_PATH], \n\u001b[0;32m     62\u001b[0m                                                                                          params, \n\u001b[0;32m     63\u001b[0m                                                                                          params[c\u001b[39m.\u001b[39mPARAMSET_ANT_BS][i], \n\u001b[0;32m     64\u001b[0m                                                                                          params[c\u001b[39m.\u001b[39mPARAMSET_ANT_UE])\n\u001b[0;32m     66\u001b[0m \u001b[39mif\u001b[39;00m params[c\u001b[39m.\u001b[39mPARAMSET_BS2BS]:\n",
      "File \u001b[1;32mc:\\Users\\DinhVa_S\\AppData\\Local\\miniconda3\\envs\\bandit_env\\lib\\site-packages\\DeepMIMO\\raytracing.py:29\u001b[0m, in \u001b[0;36mread_raytracing\u001b[1;34m(bs_id, params, user)\u001b[0m\n\u001b[0;32m     26\u001b[0m     generation_idx \u001b[39m=\u001b[39m params[c\u001b[39m.\u001b[39mPARAMSET_ACTIVE_BS]\u001b[39m-\u001b[39m\u001b[39m1\u001b[39m \u001b[39m# Active BS IDX\u001b[39;00m\n\u001b[0;32m     28\u001b[0m ray_data \u001b[39m=\u001b[39m load_ray_data(scenario_files, bs_id, user\u001b[39m=\u001b[39muser)\n\u001b[1;32m---> 29\u001b[0m data \u001b[39m=\u001b[39m extract_data_from_ray(ray_data, generation_idx, params)\n\u001b[0;32m     31\u001b[0m bs_loc \u001b[39m=\u001b[39m load_bs_loc(scenario_files, bs_id)\n\u001b[0;32m     32\u001b[0m \u001b[39mreturn\u001b[39;00m data, bs_loc\n",
      "File \u001b[1;32mc:\\Users\\DinhVa_S\\AppData\\Local\\miniconda3\\envs\\bandit_env\\lib\\site-packages\\DeepMIMO\\raytracing.py:68\u001b[0m, in \u001b[0;36mextract_data_from_ray\u001b[1;34m(ray_data, ids, params)\u001b[0m\n\u001b[0;32m     66\u001b[0m pointer \u001b[39m+\u001b[39m\u001b[39m=\u001b[39m \u001b[39m1\u001b[39m \u001b[39m# First Path\u001b[39;00m\n\u001b[0;32m     67\u001b[0m \u001b[39mif\u001b[39;00m user \u001b[39min\u001b[39;00m ids:\n\u001b[1;32m---> 68\u001b[0m     num_paths_read \u001b[39m=\u001b[39m \u001b[39mmin\u001b[39;49m(num_paths_available, params[c\u001b[39m.\u001b[39mPARAMSET_NUM_PATHS])\n\u001b[0;32m     69\u001b[0m     path_limited_data_length \u001b[39m=\u001b[39m num_paths_read\u001b[39m*\u001b[39m\u001b[39m4\u001b[39m;\n\u001b[0;32m     71\u001b[0m     \u001b[39mif\u001b[39;00m num_paths_available\u001b[39m>\u001b[39m\u001b[39m0\u001b[39m:\n",
      "\u001b[1;31mKeyboardInterrupt\u001b[0m: "
     ]
    }
   ],
   "source": [
    "# Load the default parameters\n",
    "parameters = DeepMIMO.default_params()\n",
    "\n",
    "# Set scenario name\n",
    "parameters['scenario'] = 'O1_140'\n",
    "# Set the main folder containing extracted scenarios\n",
    "parameters['dataset_folder'] = r'C:\\Users\\DinhVa_S\\Desktop'\n",
    "# Select the BS 5\n",
    "parameters['active_BS'] = np.array([5])\n",
    "# Antenna setup\n",
    "parameters['bs_antenna']['shape'] = np.array([1, 4, 4])\n",
    "parameters['ue_antenna']['shape'] = np.array([1, 2, 2])\n",
    "parameters['user_row_first'] = 1\n",
    "parameters['user_row_last'] = 5202\n",
    "# Multiply by 64 to avoid clipping symbols\n",
    "parameters['OFDM']['subcarriers'] = 512\n",
    "# Only generate the data for the first sub-channel\n",
    "parameters['OFDM']['subcarriers_limit'] = 1\n",
    "parameters['bandwidth'] = config.BANDWIDTH * 512\n",
    "\n",
    "# Generate data\n",
    "dataset = DeepMIMO.generate_data(parameters)"
   ]
  },
  {
   "cell_type": "code",
   "execution_count": null,
   "metadata": {},
   "outputs": [
    {
     "data": {
      "text/plain": [
       "array([[242.42300415, 297.17098999,   2.        ],\n",
       "       [242.6230011 , 297.17098999,   2.        ],\n",
       "       [242.82299805, 297.17098999,   2.        ],\n",
       "       ...,\n",
       "       [414.79998779, 637.42297363,   2.        ],\n",
       "       [414.79998779, 637.52301025,   2.        ],\n",
       "       [414.79998779, 637.62298584,   2.        ]])"
      ]
     },
     "execution_count": 3,
     "metadata": {},
     "output_type": "execute_result"
    }
   ],
   "source": [
    "dataset[0]['user']['location']"
   ]
  },
  {
   "cell_type": "code",
   "execution_count": null,
   "metadata": {},
   "outputs": [],
   "source": [
    "with open('channel_data_bs_7_140_ghz', 'wb') as fp:\n",
    "    pickle.dump(dataset, fp)"
   ]
  }
 ],
 "metadata": {
  "kernelspec": {
   "display_name": "Python 3.10.3 64-bit",
   "language": "python",
   "name": "python3"
  },
  "language_info": {
   "codemirror_mode": {
    "name": "ipython",
    "version": 3
   },
   "file_extension": ".py",
   "mimetype": "text/x-python",
   "name": "python",
   "nbconvert_exporter": "python",
   "pygments_lexer": "ipython3",
   "version": "3.9.6"
  },
  "orig_nbformat": 4,
  "vscode": {
   "interpreter": {
    "hash": "fc029c254a8ab1f1b97c0d77c9b4aa20c983db7a2a036e5eb482a08587226604"
   }
  }
 },
 "nbformat": 4,
 "nbformat_minor": 2
}
