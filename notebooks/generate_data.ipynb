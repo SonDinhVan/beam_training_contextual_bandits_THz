{
 "cells": [
  {
   "cell_type": "code",
   "execution_count": null,
   "metadata": {},
   "outputs": [],
   "source": [
    "import numpy as np\n",
    "import DeepMIMO\n",
    "import pickle\n",
    "from configs import config"
   ]
  },
  {
   "cell_type": "code",
   "execution_count": null,
   "metadata": {},
   "outputs": [],
   "source": [
    "# Load the default parameters\n",
    "parameters = DeepMIMO.default_params()\n",
    "\n",
    "# Set scenario name\n",
    "parameters['scenario'] = 'O1_60'\n",
    "# Set the main folder containing extracted scenarios\n",
    "parameters['dataset_folder'] = r'C:\\Users\\DinhVa_S\\OneDrive - University of Warwick\\Academic Projects\\Journal_Beam Sweeping Bandit Learning\\Code\\BAContextualBandit\\scenarios'\n",
    "# Select the BS 5\n",
    "parameters['active_BS'] = np.array([5])\n",
    "# Antenna setup\n",
    "parameters['bs_antenna']['shape'] = np.array([1, 4, 4])\n",
    "parameters['ue_antenna']['shape'] = np.array([1, 2, 2])\n",
    "parameters['user_row_first'] = 1\n",
    "parameters['user_row_last'] = 5202\n",
    "# Multiply by 64 to avoid clipping symbols\n",
    "parameters['OFDM']['subcarriers'] = 512\n",
    "# Only generate the data for the first sub-channel\n",
    "parameters['OFDM']['subcarriers_limit'] = 1\n",
    "parameters['bandwidth'] = config.BANDWIDTH * 512\n",
    "\n",
    "# Generate data\n",
    "dataset = DeepMIMO.generate_data(parameters)"
   ]
  },
  {
   "cell_type": "code",
   "execution_count": null,
   "metadata": {},
   "outputs": [],
   "source": [
    "dataset[0]['user']['location']"
   ]
  },
  {
   "cell_type": "code",
   "execution_count": null,
   "metadata": {},
   "outputs": [],
   "source": [
    "with open('channel_data_round_3.pickle', 'wb') as fp:\n",
    "    pickle.dump(dataset, fp)"
   ]
  }
 ],
 "metadata": {
  "kernelspec": {
   "display_name": "Python 3.10.3 64-bit",
   "language": "python",
   "name": "python3"
  },
  "language_info": {
   "codemirror_mode": {
    "name": "ipython",
    "version": 3
   },
   "file_extension": ".py",
   "mimetype": "text/x-python",
   "name": "python",
   "nbconvert_exporter": "python",
   "pygments_lexer": "ipython3",
   "version": "3.10.3"
  },
  "orig_nbformat": 4,
  "vscode": {
   "interpreter": {
    "hash": "fc029c254a8ab1f1b97c0d77c9b4aa20c983db7a2a036e5eb482a08587226604"
   }
  }
 },
 "nbformat": 4,
 "nbformat_minor": 2
}
